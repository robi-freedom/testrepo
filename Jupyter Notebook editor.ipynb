{
    "cells": [
        {
            "cell_type": "markdown",
            "metadata": {
                "collapsed": true
            },
            "source": "# My Jupyter Notebook on IBM Watson Studio"
        },
        {
            "cell_type": "markdown",
            "metadata": {},
            "source": "__Robert Sloboda__"
        },
        {
            "cell_type": "markdown",
            "metadata": {},
            "source": "Data Scientist"
        },
        {
            "cell_type": "markdown",
            "metadata": {},
            "source": "_I am interested in data science because it comprises many interesting topics._"
        },
        {
            "cell_type": "markdown",
            "metadata": {},
            "source": "### The following cell shows some simple calculations."
        },
        {
            "cell_type": "code",
            "execution_count": 1,
            "metadata": {},
            "outputs": [
                {
                    "data": {
                        "text/plain": "102"
                    },
                    "execution_count": 1,
                    "metadata": {},
                    "output_type": "execute_result"
                }
            ],
            "source": "25 * 4 + 2"
        },
        {
            "cell_type": "markdown",
            "metadata": {},
            "source": "My tasks:\n- prepare for lessons\n- do exercises\n- complete the test\n\nTheir order:\n1. do exercises\n2. prepare for lessons\n3. complete the test\n\nMy image: [happy face](https://www.google.com/url?sa=i&url=https%3A%2F%2Fen.wikipedia.org%2Fwiki%2FSmiley&psig=AOvVaw1JWkhc-nqhV3Y6YOtSkZ9p&ust=1697903290807000&source=images&cd=vfe&opi=89978449&ved=0CBEQjRxqFwoTCKDqtub8hIIDFQAAAAAdAAAAABAH)"
        },
        {
            "cell_type": "code",
            "execution_count": null,
            "metadata": {},
            "outputs": [],
            "source": ""
        }
    ],
    "metadata": {
        "kernelspec": {
            "display_name": "Python 3.10",
            "language": "python",
            "name": "python3"
        },
        "language_info": {
            "codemirror_mode": {
                "name": "ipython",
                "version": 3
            },
            "file_extension": ".py",
            "mimetype": "text/x-python",
            "name": "python",
            "nbconvert_exporter": "python",
            "pygments_lexer": "ipython3",
            "version": "3.10.13"
        }
    },
    "nbformat": 4,
    "nbformat_minor": 1
}